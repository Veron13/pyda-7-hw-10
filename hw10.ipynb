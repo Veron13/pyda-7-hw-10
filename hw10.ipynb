{
 "cells": [
  {
   "cell_type": "markdown",
   "metadata": {},
   "source": [
    "## Задание № 1"
   ]
  },
  {
   "cell_type": "markdown",
   "metadata": {},
   "source": [
    "Скачайте с сайта https://grouplens.org/datasets/movielens/ датасет любого размера. Определите какому фильму было выставлено больше всего оценок 5.0."
   ]
  },
  {
   "cell_type": "code",
   "execution_count": 51,
   "metadata": {},
   "outputs": [
    {
     "name": "stdout",
     "output_type": "stream",
     "text": [
      "Номер фильма, у которого наибольшее количество оценок 5.0: 416\n",
      "Количество оценок 5.0: 148\n"
     ]
    }
   ],
   "source": [
    "import pandas as pd\n",
    "\n",
    "data = pd.read_csv('u1.base', names = ['номер фильма', 'номер голоса', 'оценка', 'id'], sep = '\\t', header=0)\n",
    "data.head()\n",
    "\n",
    "max_rating = 0\n",
    "for number in range(1, len(data['номер фильма'].unique())+1):\n",
    "    movie_number = len(data[ (data['оценка'] == 5) & (data['номер фильма'] == number) ])\n",
    "    if max_rating < movie_number:\n",
    "        max_rating = movie_number\n",
    "        number_max_rating = number\n",
    "print('Номер фильма, у которого наибольшее количество оценок 5.0: '+str(number_max_rating))\n",
    "print('Количество оценок 5.0: '+str(max_rating))\n",
    "    "
   ]
  },
  {
   "cell_type": "markdown",
   "metadata": {},
   "source": [
    "## Задание № 2"
   ]
  },
  {
   "cell_type": "markdown",
   "metadata": {},
   "source": [
    "По данным файла power.csv посчитайте суммарное потребление стран Прибалтики (Латвия, Литва и Эстония) категорий 4, 12 и 21 за период с 2005 по 2010 года. Не учитывайте в расчетах отрицательные значения quantity."
   ]
  },
  {
   "cell_type": "code",
   "execution_count": 107,
   "metadata": {},
   "outputs": [
    {
     "name": "stdout",
     "output_type": "stream",
     "text": [
      "Суммарное потребление электроэнергии Прибалтики: 7715510.547429999\n"
     ]
    }
   ],
   "source": [
    "import pandas as pd\n",
    "data = pd.read_csv('power.csv')\n",
    "\n",
    "filtered = data[ (data['country']=='Latvian') | (data['country']=='Lithuania') | (data['country']=='Estonia') & (data['category']=='4') | (data['category']=='12') | (data['category']=='21') ]\n",
    "too_filtered = filtered[ (filtered.year > 2004) & (filtered.year < 2011) & (filtered.quantity > 0) ]\n",
    "\n",
    "results = too_filtered['quantity']\n",
    "print('Суммарное потребление электроэнергии Прибалтики: '+str(results.sum()))"
   ]
  },
  {
   "cell_type": "markdown",
   "metadata": {},
   "source": [
    "## Задание № 3"
   ]
  },
  {
   "cell_type": "markdown",
   "metadata": {},
   "source": [
    "Выберите страницу любого сайта с табличными данными. Импортируйте таблицы в pandas dataframe."
   ]
  },
  {
   "cell_type": "code",
   "execution_count": 69,
   "metadata": {},
   "outputs": [],
   "source": [
    "def Marvel():\n",
    "    import pandas as pd\n",
    "    tables = pd.read_html('https://ru.wikipedia.org/wiki/%D0%A1%D0%BF%D0%B8%D1%81%D0%BE%D0%BA_%D1%84%D0%B8%D0%BB%D1%8C%D0%BC%D0%BE%D0%B2_%D0%BA%D0%B8%D0%BD%D0%B5%D0%BC%D0%B0%D1%82%D0%BE%D0%B3%D1%80%D0%B0%D1%84%D0%B8%D1%87%D0%B5%D1%81%D0%BA%D0%BE%D0%B9_%D0%B2%D1%81%D0%B5%D0%BB%D0%B5%D0%BD%D0%BD%D0%BE%D0%B9_Marvel', encoding='utf-8')\n",
    "    number = int(input('Введите число от 0 до 20: '))\n",
    "    if 20 >= number >= 0 :\n",
    "        print(type(tables[number]))\n",
    "        return(tables[number])\n",
    "    else:\n",
    "        pass"
   ]
  },
  {
   "cell_type": "code",
   "execution_count": 72,
   "metadata": {},
   "outputs": [
    {
     "name": "stdout",
     "output_type": "stream",
     "text": [
      "Введите число от 0 до 20: 20\n",
      "<class 'pandas.core.frame.DataFrame'>\n"
     ]
    },
    {
     "data": {
      "text/html": [
       "<div>\n",
       "<style scoped>\n",
       "    .dataframe tbody tr th:only-of-type {\n",
       "        vertical-align: middle;\n",
       "    }\n",
       "\n",
       "    .dataframe tbody tr th {\n",
       "        vertical-align: top;\n",
       "    }\n",
       "\n",
       "    .dataframe thead th {\n",
       "        text-align: right;\n",
       "    }\n",
       "</style>\n",
       "<table border=\"1\" class=\"dataframe\">\n",
       "  <thead>\n",
       "    <tr style=\"text-align: right;\">\n",
       "      <th></th>\n",
       "      <th>0</th>\n",
       "      <th>1</th>\n",
       "    </tr>\n",
       "  </thead>\n",
       "  <tbody>\n",
       "    <tr>\n",
       "      <td>0</td>\n",
       "      <td>Люди Икс</td>\n",
       "      <td>Люди Икс (2000) Люди Икс 2 (2003) Люди Икс: По...</td>\n",
       "    </tr>\n",
       "    <tr>\n",
       "      <td>1</td>\n",
       "      <td>Росомаха</td>\n",
       "      <td>Люди Икс: Начало. Росомаха (2009) Росомаха: Бе...</td>\n",
       "    </tr>\n",
       "    <tr>\n",
       "      <td>2</td>\n",
       "      <td>Дэдпул</td>\n",
       "      <td>Дэдпул (2016) Дэдпул 2 (2018)</td>\n",
       "    </tr>\n",
       "    <tr>\n",
       "      <td>3</td>\n",
       "      <td>Новые мутанты (2020)</td>\n",
       "      <td>Новые мутанты (2020)</td>\n",
       "    </tr>\n",
       "  </tbody>\n",
       "</table>\n",
       "</div>"
      ],
      "text/plain": [
       "                      0                                                  1\n",
       "0              Люди Икс  Люди Икс (2000) Люди Икс 2 (2003) Люди Икс: По...\n",
       "1              Росомаха  Люди Икс: Начало. Росомаха (2009) Росомаха: Бе...\n",
       "2                Дэдпул                      Дэдпул (2016) Дэдпул 2 (2018)\n",
       "3  Новые мутанты (2020)                               Новые мутанты (2020)"
      ]
     },
     "execution_count": 72,
     "metadata": {},
     "output_type": "execute_result"
    }
   ],
   "source": [
    "Marvel()"
   ]
  }
 ],
 "metadata": {
  "kernelspec": {
   "display_name": "Python 3",
   "language": "python",
   "name": "python3"
  },
  "language_info": {
   "codemirror_mode": {
    "name": "ipython",
    "version": 3
   },
   "file_extension": ".py",
   "mimetype": "text/x-python",
   "name": "python",
   "nbconvert_exporter": "python",
   "pygments_lexer": "ipython3",
   "version": "3.7.4"
  }
 },
 "nbformat": 4,
 "nbformat_minor": 2
}
